{
 "cells": [
  {
   "cell_type": "code",
   "execution_count": 1,
   "id": "0c8472a9-49af-4b97-9f55-f8911dba231a",
   "metadata": {},
   "outputs": [],
   "source": [
    "'''\n",
    "Description:\n",
    "\n",
    "This project utilizes a dataset of housing prices in Portland, Oregon to predict good market prices.  The project uses a regression model.\n",
    "It features data engineering to quantify certain values, and drop columns that likely are not needed for the prediciton.  The Gradient Descent Algorithm is used to predict house prices.  \n",
    "At the end, a convergence graph is included, along with a prediction of a house given a set of column values.\n",
    "\n",
    "The first column is the square footage of the house, the second is the number of bedrooms, and the third is the price.\n",
    "\n",
    "The dataset was taken from the UCI Machine Learning Repository.\n",
    "'''"
   ]
  },
  {
   "cell_type": "code",
   "execution_count": 79,
   "id": "59c1b470-9ced-4ced-a58e-b49497af37ee",
   "metadata": {},
   "outputs": [],
   "source": [
    "## Load Housing_data.txt\n",
    "import pandas as pd\n",
    "\n",
    "def load_data():\n",
    "    return pd.read_csv('Housing_data.txt', header=None)"
   ]
  },
  {
   "cell_type": "code",
   "execution_count": 81,
   "id": "f4ff2091-5303-416c-8fce-fb0460b510ca",
   "metadata": {},
   "outputs": [
    {
     "data": {
      "text/html": [
       "<div>\n",
       "<style scoped>\n",
       "    .dataframe tbody tr th:only-of-type {\n",
       "        vertical-align: middle;\n",
       "    }\n",
       "\n",
       "    .dataframe tbody tr th {\n",
       "        vertical-align: top;\n",
       "    }\n",
       "\n",
       "    .dataframe thead th {\n",
       "        text-align: right;\n",
       "    }\n",
       "</style>\n",
       "<table border=\"1\" class=\"dataframe\">\n",
       "  <thead>\n",
       "    <tr style=\"text-align: right;\">\n",
       "      <th></th>\n",
       "      <th>0</th>\n",
       "      <th>1</th>\n",
       "      <th>2</th>\n",
       "    </tr>\n",
       "  </thead>\n",
       "  <tbody>\n",
       "    <tr>\n",
       "      <th>0</th>\n",
       "      <td>2104</td>\n",
       "      <td>3</td>\n",
       "      <td>399900</td>\n",
       "    </tr>\n",
       "    <tr>\n",
       "      <th>1</th>\n",
       "      <td>1600</td>\n",
       "      <td>3</td>\n",
       "      <td>329900</td>\n",
       "    </tr>\n",
       "    <tr>\n",
       "      <th>2</th>\n",
       "      <td>2400</td>\n",
       "      <td>3</td>\n",
       "      <td>369000</td>\n",
       "    </tr>\n",
       "    <tr>\n",
       "      <th>3</th>\n",
       "      <td>1416</td>\n",
       "      <td>2</td>\n",
       "      <td>232000</td>\n",
       "    </tr>\n",
       "    <tr>\n",
       "      <th>4</th>\n",
       "      <td>3000</td>\n",
       "      <td>4</td>\n",
       "      <td>539900</td>\n",
       "    </tr>\n",
       "  </tbody>\n",
       "</table>\n",
       "</div>"
      ],
      "text/plain": [
       "      0  1       2\n",
       "0  2104  3  399900\n",
       "1  1600  3  329900\n",
       "2  2400  3  369000\n",
       "3  1416  2  232000\n",
       "4  3000  4  539900"
      ]
     },
     "execution_count": 81,
     "metadata": {},
     "output_type": "execute_result"
    }
   ],
   "source": [
    "# Print out some data points\n",
    "housing = load_data()\n",
    "housing.head()"
   ]
  },
  {
   "cell_type": "code",
   "execution_count": 83,
   "id": "ff9749ec-4727-4805-a84e-aac921135023",
   "metadata": {},
   "outputs": [],
   "source": [
    "# Scale features and set them to zero mean\n",
    "features = housing.iloc[:, :-1]\n",
    "features = (features - features.mean()) / features.std()\n",
    "features_df = pd.DataFrame(features, columns=features.columns)\n",
    "features_df[2] = housing.iloc[:, -1].values"
   ]
  },
  {
   "cell_type": "code",
   "execution_count": 85,
   "id": "b46f0ddd-b97a-42bb-8ea7-2fc9ec6fd974",
   "metadata": {},
   "outputs": [
    {
     "data": {
      "text/html": [
       "<div>\n",
       "<style scoped>\n",
       "    .dataframe tbody tr th:only-of-type {\n",
       "        vertical-align: middle;\n",
       "    }\n",
       "\n",
       "    .dataframe tbody tr th {\n",
       "        vertical-align: top;\n",
       "    }\n",
       "\n",
       "    .dataframe thead th {\n",
       "        text-align: right;\n",
       "    }\n",
       "</style>\n",
       "<table border=\"1\" class=\"dataframe\">\n",
       "  <thead>\n",
       "    <tr style=\"text-align: right;\">\n",
       "      <th></th>\n",
       "      <th>0</th>\n",
       "      <th>1</th>\n",
       "      <th>2</th>\n",
       "    </tr>\n",
       "  </thead>\n",
       "  <tbody>\n",
       "    <tr>\n",
       "      <th>0</th>\n",
       "      <td>0.130010</td>\n",
       "      <td>-0.223675</td>\n",
       "      <td>399900</td>\n",
       "    </tr>\n",
       "    <tr>\n",
       "      <th>1</th>\n",
       "      <td>-0.504190</td>\n",
       "      <td>-0.223675</td>\n",
       "      <td>329900</td>\n",
       "    </tr>\n",
       "    <tr>\n",
       "      <th>2</th>\n",
       "      <td>0.502476</td>\n",
       "      <td>-0.223675</td>\n",
       "      <td>369000</td>\n",
       "    </tr>\n",
       "    <tr>\n",
       "      <th>3</th>\n",
       "      <td>-0.735723</td>\n",
       "      <td>-1.537767</td>\n",
       "      <td>232000</td>\n",
       "    </tr>\n",
       "    <tr>\n",
       "      <th>4</th>\n",
       "      <td>1.257476</td>\n",
       "      <td>1.090417</td>\n",
       "      <td>539900</td>\n",
       "    </tr>\n",
       "  </tbody>\n",
       "</table>\n",
       "</div>"
      ],
      "text/plain": [
       "          0         1       2\n",
       "0  0.130010 -0.223675  399900\n",
       "1 -0.504190 -0.223675  329900\n",
       "2  0.502476 -0.223675  369000\n",
       "3 -0.735723 -1.537767  232000\n",
       "4  1.257476  1.090417  539900"
      ]
     },
     "execution_count": 85,
     "metadata": {},
     "output_type": "execute_result"
    }
   ],
   "source": [
    "# Print out some data points\n",
    "features_df.head()"
   ]
  },
  {
   "cell_type": "code",
   "execution_count": 87,
   "id": "54eb638c-4a1f-4cd9-b89c-71eae8d5841b",
   "metadata": {},
   "outputs": [],
   "source": [
    "import numpy as np\n",
    "\n",
    "# Some gradient descent settings\n",
    "iterations = 1500;\n",
    "alpha = 0.01;\n",
    "m = len(y)\n",
    "ones = np.ones(m)\n",
    "x = features_df[[0,1]]\n",
    "x[2] = ones\n",
    "y = features_df[2]\n",
    "J_history = np.zeros(iterations)\n",
    "\n",
    "def compute_cost(x, y, theta):\n",
    "    predictions = x.dot(theta)\n",
    "    errors = predictions - y\n",
    "    j = (1 / (2 * m)) * np.sum(errors ** 2)\n",
    "    return j\n",
    "\n",
    "# Init Theta and Run Gradient Descent \n",
    "theta = np.zeros(x.shape[1])\n",
    "for iter in range(iterations):\n",
    "    predictions = x.dot(theta)\n",
    "    errors = predictions - y \n",
    "    theta -= (alpha / m) * (x.T.dot(errors))\n",
    "    \n",
    "    #   You should set J_history(iter) to the cost of using the current values of theta. \n",
    "    J_history[iter] = compute_cost(x, y, theta)"
   ]
  },
  {
   "cell_type": "code",
   "execution_count": 88,
   "id": "55a5c544-f048-46cd-9760-67536f874563",
   "metadata": {},
   "outputs": [
    {
     "data": {
      "image/png": "[encoded data removed]",
      "text/plain": [
       "<Figure size 640x480 with 1 Axes>"
      ]
     },
     "metadata": {},
     "output_type": "display_data"
    }
   ],
   "source": [
    "# Plot the convergence graph\n",
    "import matplotlib.pyplot as plt\n",
    "\n",
    "plt.plot(range(iterations), J_history, color='blue')\n",
    "plt.title('Convergence Graph')\n",
    "plt.xlabel('# Iterations')\n",
    "plt.ylabel('Cost')\n",
    "plt.grid()\n",
    "plt.show()"
   ]
  },
  {
   "cell_type": "code",
   "execution_count": 89,
   "id": "60ea1d0d-b928-48c6-b52a-f548951b3bb1",
   "metadata": {},
   "outputs": [
    {
     "data": {
      "text/plain": [
       "0    110540.566546\n",
       "1     -6558.990548\n",
       "2    340412.563014\n",
       "dtype: float64"
      ]
     },
     "execution_count": 89,
     "metadata": {},
     "output_type": "execute_result"
    }
   ],
   "source": [
    "#Display Gradient Descent's Result\n",
    "theta"
   ]
  },
  {
   "cell_type": "code",
   "execution_count": 107,
   "id": "7bd922f3-891a-445a-9043-66060a1d3e8c",
   "metadata": {},
   "outputs": [
    {
     "data": {
      "text/plain": [
       "457512.1201087792"
      ]
     },
     "execution_count": 107,
     "metadata": {},
     "output_type": "execute_result"
    }
   ],
   "source": [
    "#Predicting the price of given house, using same scaling as prior\n",
    "new_house = np.array([1650, 3])\n",
    "new_house = (new_house - new_house.mean()) / new_house.std()\n",
    "new_house = np.append(new_house, 1)\n",
    "new_house\n",
    "predicted_price = new_house.dot(theta)\n",
    "\n",
    "predicted_price"
   ]
  },
  {
   "cell_type": "code",
   "execution_count": null,
   "id": "09d54d52-777c-4a78-b245-317b71a56768",
   "metadata": {},
   "outputs": [],
   "source": []
  },
  {
   "cell_type": "code",
   "execution_count": null,
   "id": "f8bf458d-a6a2-4e3b-a42e-7766d47abc5e",
   "metadata": {},
   "outputs": [],
   "source": []
  }
 ],
 "metadata": {
  "kernelspec": {
   "display_name": "Python 3 (ipykernel)",
   "language": "python",
   "name": "python3"
  },
  "language_info": {
   "codemirror_mode": {
    "name": "ipython",
    "version": 3
   },
   "file_extension": ".py",
   "mimetype": "text/x-python",
   "name": "python",
   "nbconvert_exporter": "python",
   "pygments_lexer": "ipython3",
   "version": "3.12.4"
  }
 },
 "nbformat": 4,
 "nbformat_minor": 5
}
